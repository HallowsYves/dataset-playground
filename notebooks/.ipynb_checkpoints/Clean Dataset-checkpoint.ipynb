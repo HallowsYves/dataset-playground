{
 "cells": [
  {
   "cell_type": "code",
   "execution_count": null,
   "id": "833eec50-0e91-4e3d-87f1-d6bc9b4d9b59",
   "metadata": {},
   "outputs": [],
   "source": [
    "#We'll use this to clean the Dataset for 2021"
   ]
  }
 ],
 "metadata": {
  "kernelspec": {
   "display_name": "Python 3 (ipykernel)",
   "language": "python",
   "name": "python3"
  },
  "language_info": {
   "codemirror_mode": {
    "name": "ipython",
    "version": 3
   },
   "file_extension": ".py",
   "mimetype": "text/x-python",
   "name": "python",
   "nbconvert_exporter": "python",
   "pygments_lexer": "ipython3",
   "version": "3.11.0"
  }
 },
 "nbformat": 4,
 "nbformat_minor": 5
}
